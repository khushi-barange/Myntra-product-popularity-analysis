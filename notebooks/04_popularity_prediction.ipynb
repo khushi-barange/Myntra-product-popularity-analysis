{
 "cells": [
  {
   "cell_type": "code",
   "execution_count": null,
   "id": "80990999-f2c3-4d70-8f00-ef796f16e35d",
   "metadata": {},
   "outputs": [],
   "source": [
    "#Import libraries\n",
    "from sklearn.model_selection import train_test_split\n",
    "from sklearn.ensemble import RandomForestRegressor\n",
    "from sklearn.metrics import mean_squared_error, r2_score\n",
    "import matplotlib.pyplot as plt\n",
    "import pandas as pd\n",
    "import numpy as np\n",
    "\n",
    "\n",
    "\n",
    "# Features and target\n",
    "features = ['price_num','discount_pct','ratings','reviews_num','price_to_mrp_ratio','log_reviews']\n",
    "X = df[features].fillna(0)\n",
    "y = df['popularity_score'].fillna(0)\n",
    "\n",
    "# Train-test split\n",
    "X_train, X_test, y_train, y_test = train_test_split(X, y, test_size=0.2, random_state=42)\n"
   ]
  },
  {
   "cell_type": "code",
   "execution_count": null,
   "id": "d0092d58-a95f-46b0-bb8c-5e9de66707c7",
   "metadata": {},
   "outputs": [],
   "source": [
    "top_brands_count = df['brand_name'].value_counts().head(15)\n",
    "\n",
    "plt.figure(figsize=(12,5))\n",
    "top_brands_count.plot(kind='bar', color='skyblue')\n",
    "plt.title(\"Top 15 Brands by Number of Products\")\n",
    "plt.xlabel(\"Brand\")\n",
    "plt.ylabel(\"Number of Products\")\n",
    "plt.xticks(rotation=90)\n",
    "plt.show()"
   ]
  },
  {
   "cell_type": "code",
   "execution_count": null,
   "id": "dfa06a59-3ddc-44fa-8c8a-46ae4335e5d2",
   "metadata": {},
   "outputs": [],
   "source": [
    "brand_summary = df.groupby('brand_name').agg(\n",
    "    n_products=('pants_description','count'),\n",
    "    avg_rating=('ratings','mean'),\n",
    "    avg_discount=('discount_pct','mean'),\n",
    "    avg_price=('price_num','mean'),\n",
    "    avg_popularity=('popularity_score','mean'),\n",
    "    rating_variance=('ratings','std')\n",
    ").reset_index()\n",
    "\n",
    "brand_summary.sort_values('n_products', ascending=False).head(10)\n",
    "\n",
    "top_brands_popularity = brand_summary.sort_values('avg_popularity', ascending=False).head(15)"
   ]
  },
  {
   "cell_type": "code",
   "execution_count": null,
   "id": "1916c5d0-4796-458f-afb9-474c6a53d119",
   "metadata": {},
   "outputs": [],
   "source": [
    "plt.figure(figsize=(10,5))\n",
    "sns.barplot(data=top_brands_popularity, x='brand_name', y='avg_popularity', palette=\"viridis\")\n",
    "plt.title(\"Top 15 Brands by Average Popularity\")\n",
    "plt.xticks(rotation=90)\n",
    "plt.ylabel(\"Average Popularity Score\")\n",
    "plt.show()\n"
   ]
  },
  {
   "cell_type": "code",
   "execution_count": null,
   "id": "005ab431-50a1-430b-8fea-49b4753cfa13",
   "metadata": {},
   "outputs": [],
   "source": [
    "plt.figure(figsize=(8,5))\n",
    "sns.scatterplot(data=brand_summary, x='avg_discount', y='avg_rating', size='n_products', alpha=0.6, legend=False)\n",
    "plt.title(\"Brand-Level Discount vs Rating\")\n",
    "plt.xlabel(\"Average Discount %\")\n",
    "plt.ylabel(\"Average Rating\")\n",
    "plt.show()"
   ]
  },
  {
   "cell_type": "code",
   "execution_count": null,
   "id": "639f1223-8152-45c6-9055-c6137510cddf",
   "metadata": {},
   "outputs": [],
   "source": [
    "consistent_brands = brand_summary.sort_values('rating_variance').head(10)\n",
    "consistent_brands[['brand_name','avg_rating','rating_variance','n_products']]"
   ]
  },
  {
   "cell_type": "code",
   "execution_count": null,
   "id": "05ca83e1-0e32-4f9d-b1c3-f3f3d750c9b5",
   "metadata": {},
   "outputs": [],
   "source": [
    "rf = RandomForestRegressor(n_estimators=200, random_state=42)\n",
    "rf.fit(X_train, y_train)\n",
    "\n",
    "# Predictions\n",
    "y_pred = rf.predict(X_test)\n",
    "\n",
    "# Metrics\n",
    "print(\"RMSE:\", np.sqrt(mean_squared_error(y_test, y_pred)))\n",
    "print(\"R² Score:\", r2_score(y_test, y_pred))"
   ]
  },
  {
   "cell_type": "code",
   "execution_count": null,
   "id": "7564dc59-816f-4a1e-9bbf-ff12e1f72ab4",
   "metadata": {},
   "outputs": [],
   "source": [
    "importances = pd.Series(rf.feature_importances_, index=features).sort_values(ascending=True)\n",
    "\n",
    "plt.figure(figsize=(7,5))\n",
    "importances.plot(kind='barh', color='teal')\n",
    "plt.title(\"Feature Importance for Popularity Score\")\n",
    "plt.xlabel(\"Importance\")\n",
    "plt.ylabel(\"Feature\")\n",
    "plt.show()\n"
   ]
  }
 ],
 "metadata": {
  "kernelspec": {
   "display_name": "Python 3.9",
   "language": "python",
   "name": "py39"
  },
  "language_info": {
   "codemirror_mode": {
    "name": "ipython",
    "version": 3
   },
   "file_extension": ".py",
   "mimetype": "text/x-python",
   "name": "python",
   "nbconvert_exporter": "python",
   "pygments_lexer": "ipython3",
   "version": "3.9.23"
  }
 },
 "nbformat": 4,
 "nbformat_minor": 5
}
