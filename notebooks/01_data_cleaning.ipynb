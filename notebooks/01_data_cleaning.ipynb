{
 "cells": [
  {
   "cell_type": "code",
   "execution_count": 5,
   "id": "b1b9b2cb-7696-4808-bd10-a98144cfdbf1",
   "metadata": {},
   "outputs": [],
   "source": [
    "# Import libraries\n",
    "import pandas as pd\n",
    "import numpy as np"
   ]
  },
  {
   "cell_type": "code",
   "execution_count": null,
   "id": "2ad39667-6ec6-4915-9c2a-0df2b2638b57",
   "metadata": {},
   "outputs": [],
   "source": [
    "df = pd.read_csv(\"data/myntra_dataset_ByScraping.csv\")\n",
    "df"
   ]
  },
  {
   "cell_type": "code",
   "execution_count": null,
   "id": "95ff9d0b-d4d6-4c24-bcf4-a0dd80e9ba75",
   "metadata": {},
   "outputs": [],
   "source": [
    "# Data Cleaning / parsing prices & discounts\n",
    "\n",
    "import re\n",
    "def parse_price(x):\n",
    "    if pd.isna(x): return None\n",
    "    s = str(x)\n",
    "    # remove currency symbols and commas\n",
    "    s = re.sub(r'[^\\d.]', '', s)\n",
    "    try:\n",
    "        return float(s)\n",
    "    except:\n",
    "        return None\n",
    "\n",
    "# example column names; adjust if different\n",
    "for col in ['price', 'mrp', 'discount']:\n",
    "    if col in df.columns:\n",
    "        df[col + '_num'] = df[col].apply(parse_price)\n",
    "\n",
    "# If discount isn't present or inconsistent, compute it\n",
    "if 'price_num' in df.columns and 'mrp_num' in df.columns:\n",
    "    df['discount_pct'] = ((df['mrp_num'] - df['price_num']) / df['mrp_num']).clip(0,1)*100\n"
   ]
  },
  {
   "cell_type": "code",
   "execution_count": null,
   "id": "e9be53b8-32da-4797-a944-242cec37ff84",
   "metadata": {},
   "outputs": [],
   "source": [
    "import re\n",
    "import numpy as np\n",
    "\n",
    "# helper to clean ₹1,299 → 1299\n",
    "def parse_price(x):\n",
    "    if pd.isna(x): return None\n",
    "    s = str(x)\n",
    "    s = re.sub(r'[^\\d.]', '', s)\n",
    "    try:\n",
    "        return float(s)\n",
    "    except:\n",
    "        return None\n",
    "\n",
    "# clean price + MRP\n",
    "df['price_num'] = df['price'].apply(parse_price)\n",
    "df['mrp_num'] = df['MRP'].apply(parse_price)\n",
    "\n",
    "# clean discount (already % but might have strings like '40% OFF')\n",
    "def parse_discount(x):\n",
    "    if pd.isna(x): return None\n",
    "    s = re.sub(r'[^\\d.]', '', str(x))\n",
    "    try:\n",
    "        return float(s)\n",
    "    except:\n",
    "        return None\n",
    "\n",
    "df['discount_pct'] = df['discount_percent'].apply(parse_discount)\n",
    "\n",
    "# reviews (number_of_ratings)\n",
    "def parse_reviews(x):\n",
    "    if pd.isna(x): return 0\n",
    "    s = str(x).lower().strip()\n",
    "    if 'k' in s:\n",
    "        return float(s.replace('k','')) * 1000\n",
    "    if 'm' in s:\n",
    "        return float(s.replace('m','')) * 1_000_000\n",
    "    try:\n",
    "        return float(re.sub(r'[^\\d.]','',s))\n",
    "    except:\n",
    "        return 0\n",
    "\n",
    "df['reviews_num'] = df['number_of_ratings'].apply(parse_reviews)\n",
    "\n",
    "# log transformation\n",
    "df['log_reviews'] = np.log1p(df['reviews_num'])\n",
    "\n",
    "# ratio (safe division)\n",
    "df['price_to_mrp_ratio'] = np.where(df['mrp_num']>0, df['price_num']/df['mrp_num'], None)\n",
    "\n",
    "# popularity proxy (ratings * log_reviews)\n",
    "df['popularity_score'] = df['ratings'] * df['log_reviews']\n"
   ]
  },
  {
   "cell_type": "code",
   "execution_count": null,
   "id": "b3b2a888-c8a3-4aa4-afed-43ac9f5401e8",
   "metadata": {},
   "outputs": [],
   "source": []
  }
 ],
 "metadata": {
  "kernelspec": {
   "display_name": "Python 3.9",
   "language": "python",
   "name": "py39"
  },
  "language_info": {
   "codemirror_mode": {
    "name": "ipython",
    "version": 3
   },
   "file_extension": ".py",
   "mimetype": "text/x-python",
   "name": "python",
   "nbconvert_exporter": "python",
   "pygments_lexer": "ipython3",
   "version": "3.9.23"
  }
 },
 "nbformat": 4,
 "nbformat_minor": 5
}
