{
 "cells": [
  {
   "cell_type": "markdown",
   "id": "afa38783-7f59-4270-8cde-f74ed89c47d6",
   "metadata": {},
   "source": [
    "Price & Discount Distribution"
   ]
  },
  {
   "cell_type": "code",
   "execution_count": null,
   "id": "1cbd83db-2fbd-4f60-870c-c62b9408c6b8",
   "metadata": {},
   "outputs": [],
   "source": [
    "# Import libraries\n",
    "import seaborn as sns\n",
    "import matplotlib.pyplot as plt"
   ]
  },
  {
   "cell_type": "code",
   "execution_count": null,
   "id": "fc90e31c-9442-45c5-a4bf-456256ee6933",
   "metadata": {},
   "outputs": [],
   "source": [
    "plt.figure(figsize=(6,4))\n",
    "df['price_num'].hist(bins=50)\n",
    "plt.title(\"Price Distribution\")\n",
    "plt.xlabel(\"Price\")\n",
    "plt.ylabel(\"Count\")\n",
    "plt.show()"
   ]
  },
  {
   "cell_type": "code",
   "execution_count": null,
   "id": "dbb65f76-8e8e-4d1b-a3a3-9bf266404003",
   "metadata": {},
   "outputs": [],
   "source": [
    "plt.figure(figsize=(6,4))\n",
    "df[df['price_num'] <= 10000]['price_num'].hist(bins=50, color='blue')\n",
    "plt.title(\"Price Distribution (Zoomed: 0–10,000)\")\n",
    "plt.xlabel(\"Price\")\n",
    "plt.ylabel(\"Count\")\n",
    "plt.show()"
   ]
  },
  {
   "cell_type": "code",
   "execution_count": null,
   "id": "f97aed6b-96bd-4e4a-b1b4-f62e81510094",
   "metadata": {},
   "outputs": [],
   "source": [
    "plt.figure(figsize=(6,4))\n",
    "df[df['price_num'] <= 4000]['price_num'].hist(bins=50, color='blue')\n",
    "plt.title(\"Price Distribution (Zoomed: 0–4000)\")\n",
    "plt.xlabel(\"Price\")\n",
    "plt.ylabel(\"Count\")\n",
    "plt.show()"
   ]
  },
  {
   "cell_type": "code",
   "execution_count": null,
   "id": "d7f0b4ca-1054-4d0a-9c58-6244582d361a",
   "metadata": {},
   "outputs": [],
   "source": []
  }
 ],
 "metadata": {
  "kernelspec": {
   "display_name": "Python 3.9",
   "language": "python",
   "name": "py39"
  },
  "language_info": {
   "codemirror_mode": {
    "name": "ipython",
    "version": 3
   },
   "file_extension": ".py",
   "mimetype": "text/x-python",
   "name": "python",
   "nbconvert_exporter": "python",
   "pygments_lexer": "ipython3",
   "version": "3.9.23"
  }
 },
 "nbformat": 4,
 "nbformat_minor": 5
}
