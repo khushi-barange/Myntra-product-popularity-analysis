{
 "cells": [
  {
   "cell_type": "markdown",
   "id": "4d3daadc-9a09-470c-ac6a-1efa8a704ef9",
   "metadata": {},
   "source": [
    "Ratings & Reviews Analysis"
   ]
  },
  {
   "cell_type": "code",
   "execution_count": null,
   "id": "3a14c267-1836-4757-92f1-500f2deffdd7",
   "metadata": {},
   "outputs": [],
   "source": [
    "# Import libraries\n",
    "import seaborn as sns\n",
    "import matplotlib.pyplot as plt"
   ]
  },
  {
   "cell_type": "code",
   "execution_count": null,
   "id": "ea29b2da-6e09-4206-b45f-9ea5203ba35c",
   "metadata": {},
   "outputs": [],
   "source": [
    "plt.figure(figsize=(6,4))\n",
    "df['ratings'].hist(bins=20, color='green')\n",
    "plt.title(\"Ratings Distribution\")\n",
    "plt.xlabel(\"Ratings\")\n",
    "plt.ylabel(\"Count\")\n",
    "plt.show()"
   ]
  },
  {
   "cell_type": "code",
   "execution_count": null,
   "id": "f67b16d0-63c7-4a3b-b35b-fcaf6df7f81e",
   "metadata": {},
   "outputs": [],
   "source": [
    "plt.figure(figsize=(6,4))\n",
    "df['reviews_num'].hist(bins=50, color='purple')\n",
    "plt.title(\"Number of Reviews Distribution\")\n",
    "plt.xlabel(\"Number of Reviews\")\n",
    "plt.ylabel(\"Count\")\n",
    "plt.yscale(\"log\")  # log scale to handle skew\n",
    "plt.show()"
   ]
  },
  {
   "cell_type": "code",
   "execution_count": null,
   "id": "ccfad6f1-52ee-43c4-800b-f1dd68e6eec6",
   "metadata": {},
   "outputs": [],
   "source": [
    "plt.figure(figsize=(6,5))\n",
    "plt.scatter(df['reviews_num'], df['ratings'], alpha=0.3, color='red')\n",
    "plt.xscale(\"log\")\n",
    "plt.title(\"Ratings vs Number of Reviews\")\n",
    "plt.xlabel(\"Number of Reviews (log scale)\")\n",
    "plt.ylabel(\"Ratings\")\n",
    "plt.show()"
   ]
  },
  {
   "cell_type": "code",
   "execution_count": null,
   "id": "c93c546c-2520-4e36-9491-4b550c8a455b",
   "metadata": {},
   "outputs": [],
   "source": [
    "plt.figure(figsize=(6,5))\n",
    "plt.scatter(df['reviews_num'], df['popularity_score'], alpha=0.3, color='blue')\n",
    "plt.xscale(\"log\")\n",
    "plt.title(\"Popularity vs Number of Reviews\")\n",
    "plt.xlabel(\"Number of Reviews (log scale)\")\n",
    "plt.ylabel(\"Popularity Score\")\n",
    "plt.show()"
   ]
  },
  {
   "cell_type": "code",
   "execution_count": null,
   "id": "b07eeadf-7d7b-45b5-a403-efcf4760ece5",
   "metadata": {},
   "outputs": [],
   "source": [
    "df['review_bucket'] = pd.cut(df['reviews_num'], \n",
    "                             bins=[0,10,50,200,1000,5000,10000,50000],\n",
    "                             labels=[\"0-10\",\"10-50\",\"50-200\",\"200-1k\",\"1k-5k\",\"5k-10k\",\"10k+\"])\n",
    "\n",
    "rating_by_bucket = df.groupby('review_bucket')['ratings'].mean()\n",
    "\n",
    "plt.figure(figsize=(7,4))\n",
    "rating_by_bucket.plot(kind='bar', color='teal')\n",
    "plt.title(\"Average Rating by Review Bucket\")\n",
    "plt.xlabel(\"Review Bucket\")\n",
    "plt.ylabel(\"Average Rating\")\n",
    "plt.show()"
   ]
  }
 ],
 "metadata": {
  "kernelspec": {
   "display_name": "Python 3.9",
   "language": "python",
   "name": "py39"
  },
  "language_info": {
   "codemirror_mode": {
    "name": "ipython",
    "version": 3
   },
   "file_extension": ".py",
   "mimetype": "text/x-python",
   "name": "python",
   "nbconvert_exporter": "python",
   "pygments_lexer": "ipython3",
   "version": "3.9.23"
  }
 },
 "nbformat": 4,
 "nbformat_minor": 5
}
